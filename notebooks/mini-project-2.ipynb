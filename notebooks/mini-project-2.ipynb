{
 "cells": [
  {
   "cell_type": "code",
   "execution_count": 93,
   "metadata": {},
   "outputs": [],
   "source": [
    "# imports\n",
    "import pandas as pd\n",
    "import os\n",
    "import requests as re\n",
    "import foursquare\n",
    "import sqlite3\n",
    "from sqlite3 import Error"
   ]
  },
  {
   "cell_type": "markdown",
   "metadata": {},
   "source": [
    "# Foursquare"
   ]
  },
  {
   "cell_type": "markdown",
   "metadata": {},
   "source": [
    "Send a request to Foursquare with a small radius (1000m) with the location of your choice"
   ]
  },
  {
   "cell_type": "code",
   "execution_count": 6,
   "metadata": {},
   "outputs": [],
   "source": [
    "fsqkey = os.environ[\"FOURSQUARE_API_KEY\"]\n",
    "url = \"https://api.foursquare.com/v3/places/search?ll=51.03734231611936%2C-114.07726999320349&radius=1000&categories=13003%2C13040%2C13065&\"\n",
    "headers = {\n",
    "    \"Accept\": \"application/json\",\n",
    "    \"Authorization\": fsqkey\n",
    "}\n",
    "response = re.get(url, headers=headers)\n",
    "b = response.json()"
   ]
  },
  {
   "cell_type": "code",
   "execution_count": 273,
   "metadata": {},
   "outputs": [
    {
     "data": {
      "text/plain": [
       "['Restaurant',\n",
       " 'Restaurant',\n",
       " 'Bar',\n",
       " 'Brewery',\n",
       " 'Restaurant',\n",
       " 'Pub',\n",
       " 'Sports Bar',\n",
       " 'Diner',\n",
       " 'Café',\n",
       " 'Coffee Shop',\n",
       " 'Fast Food Restaurant',\n",
       " 'Thai Restaurant',\n",
       " 'Vietnamese Restaurant',\n",
       " 'Café',\n",
       " 'Coffee Shop',\n",
       " 'Restaurant',\n",
       " 'Bakery',\n",
       " 'Coffee Shop',\n",
       " 'French Restaurant',\n",
       " 'Bar',\n",
       " 'Brewery',\n",
       " 'Comfort Food Restaurant',\n",
       " 'Burger Joint',\n",
       " 'English Restaurant',\n",
       " 'Sandwich Restaurant']"
      ]
     },
     "execution_count": 273,
     "metadata": {},
     "output_type": "execute_result"
    }
   ],
   "source": [
    "lstt = []\n",
    "for ele in b['results']:\n",
    "    for i in ele['categories']:\n",
    "        lstt.append(i['name'])\n",
    "lstt"
   ]
  },
  {
   "cell_type": "code",
   "execution_count": 261,
   "metadata": {},
   "outputs": [],
   "source": [
    "lsttt = []\n",
    "for ele in lstt:\n",
    "    if ele in ['Restaurant','Bar','Bakery', 'Café','Thai Restaurant']:\n",
    "        lsttt.append(ele)"
   ]
  },
  {
   "cell_type": "code",
   "execution_count": 267,
   "metadata": {},
   "outputs": [],
   "source": [
    "lsttt[5] = 'Restaurant'"
   ]
  },
  {
   "cell_type": "code",
   "execution_count": 16,
   "metadata": {},
   "outputs": [],
   "source": [
    "url = \"https://api.foursquare.com/v3/places/search?ll=51.03734231611936%2C-114.07726999320349&radius=1000&categories=13003%2C13040%2C13065&fields=rating\"\n",
    "headers = {\n",
    "    \"Accept\": \"application/json\",\n",
    "    \"Authorization\": fsqkey\n",
    "}\n",
    "response = re.get(url, headers=headers)\n",
    "c = response.json()"
   ]
  },
  {
   "cell_type": "markdown",
   "metadata": {},
   "source": [
    "Parse through the response to get the POI details you want (rating, name, location, etc)"
   ]
  },
  {
   "cell_type": "code",
   "execution_count": 179,
   "metadata": {},
   "outputs": [
    {
     "data": {
      "text/plain": [
       "['Blanco Cantina',\n",
       " 'Anejo',\n",
       " 'Trolley 5 Restaurant and Brewery',\n",
       " 'Ship & Anchor Pub',\n",
       " 'Analog Coffee',\n",
       " 'Thai Tai',\n",
       " 'Philosafy Coffee',\n",
       " 'Yann Haute Patisserie',\n",
       " 'Last Best Brewing & Distilling',\n",
       " 'Holy Grill']"
      ]
     },
     "execution_count": 179,
     "metadata": {},
     "output_type": "execute_result"
    }
   ],
   "source": [
    "lstn = []\n",
    "lstl = []\n",
    "try:\n",
    "    for ele in b['results']:\n",
    "        lstn.append(ele['name'])\n",
    "        lstl.append(ele['location']['address'])\n",
    "except KeyError:\n",
    "        pass\n",
    "lstn"
   ]
  },
  {
   "cell_type": "code",
   "execution_count": 180,
   "metadata": {},
   "outputs": [
    {
     "data": {
      "text/plain": [
       "['723 17 Ave SW',\n",
       " '723 17 Ave SW',\n",
       " '728 17 Ave SW',\n",
       " '534 17 Ave SW',\n",
       " '740 17 Ave SW',\n",
       " '615 17th Ave SW',\n",
       " '632 17 Ave SW',\n",
       " '301A39 23 Ave SW',\n",
       " '607 11 Ave SW',\n",
       " '827 10 Ave SW']"
      ]
     },
     "execution_count": 180,
     "metadata": {},
     "output_type": "execute_result"
    }
   ],
   "source": [
    "lstl"
   ]
  },
  {
   "cell_type": "code",
   "execution_count": 181,
   "metadata": {},
   "outputs": [],
   "source": [
    "lstr =[]\n",
    "for ele in c.values():\n",
    "    for i in ele:\n",
    "        lstr.append(i)"
   ]
  },
  {
   "cell_type": "code",
   "execution_count": 182,
   "metadata": {},
   "outputs": [
    {
     "ename": "AttributeError",
     "evalue": "'str' object has no attribute 'values'",
     "output_type": "error",
     "traceback": [
      "\u001b[1;31m---------------------------------------------------------------------------\u001b[0m",
      "\u001b[1;31mAttributeError\u001b[0m                            Traceback (most recent call last)",
      "Input \u001b[1;32mIn [182]\u001b[0m, in \u001b[0;36m<cell line: 2>\u001b[1;34m()\u001b[0m\n\u001b[0;32m      1\u001b[0m lstrr \u001b[38;5;241m=\u001b[39m []\n\u001b[0;32m      2\u001b[0m \u001b[38;5;28;01mfor\u001b[39;00m ele \u001b[38;5;129;01min\u001b[39;00m lstr:\n\u001b[1;32m----> 3\u001b[0m     \u001b[38;5;28;01mfor\u001b[39;00m i \u001b[38;5;129;01min\u001b[39;00m \u001b[43mele\u001b[49m\u001b[38;5;241;43m.\u001b[39;49m\u001b[43mvalues\u001b[49m():\n\u001b[0;32m      4\u001b[0m         lstrr\u001b[38;5;241m.\u001b[39mappend(i)\n",
      "\u001b[1;31mAttributeError\u001b[0m: 'str' object has no attribute 'values'"
     ]
    }
   ],
   "source": [
    "#gives an error but it still appends the rating values to a list\n",
    "lstrr = []\n",
    "for ele in lstr:\n",
    "    for i in ele.values():\n",
    "        lstrr.append(i)"
   ]
  },
  {
   "cell_type": "code",
   "execution_count": 192,
   "metadata": {},
   "outputs": [
    {
     "data": {
      "text/plain": [
       "[8.8, 8.5, 8.2, 8.3, 8.0, 7.9, 7.8, 9.0, 8.6, 8.9]"
      ]
     },
     "execution_count": 192,
     "metadata": {},
     "output_type": "execute_result"
    }
   ],
   "source": [
    "lstn\n",
    "lstl\n",
    "lstrr"
   ]
  },
  {
   "cell_type": "markdown",
   "metadata": {},
   "source": [
    "Put your parsed results into a DataFrame"
   ]
  },
  {
   "cell_type": "code",
   "execution_count": 271,
   "metadata": {},
   "outputs": [],
   "source": [
    "di = {'Name': lstn, 'Location':lstl, 'Rating':lstrr}"
   ]
  },
  {
   "cell_type": "code",
   "execution_count": 272,
   "metadata": {},
   "outputs": [
    {
     "data": {
      "text/html": [
       "<div>\n",
       "<style scoped>\n",
       "    .dataframe tbody tr th:only-of-type {\n",
       "        vertical-align: middle;\n",
       "    }\n",
       "\n",
       "    .dataframe tbody tr th {\n",
       "        vertical-align: top;\n",
       "    }\n",
       "\n",
       "    .dataframe thead th {\n",
       "        text-align: right;\n",
       "    }\n",
       "</style>\n",
       "<table border=\"1\" class=\"dataframe\">\n",
       "  <thead>\n",
       "    <tr style=\"text-align: right;\">\n",
       "      <th></th>\n",
       "      <th>Name</th>\n",
       "      <th>Location</th>\n",
       "      <th>Rating</th>\n",
       "    </tr>\n",
       "  </thead>\n",
       "  <tbody>\n",
       "    <tr>\n",
       "      <th>7</th>\n",
       "      <td>Yann Haute Patisserie</td>\n",
       "      <td>301A39 23 Ave SW</td>\n",
       "      <td>9.0</td>\n",
       "    </tr>\n",
       "    <tr>\n",
       "      <th>9</th>\n",
       "      <td>Holy Grill</td>\n",
       "      <td>827 10 Ave SW</td>\n",
       "      <td>8.9</td>\n",
       "    </tr>\n",
       "    <tr>\n",
       "      <th>0</th>\n",
       "      <td>Blanco Cantina</td>\n",
       "      <td>723 17 Ave SW</td>\n",
       "      <td>8.8</td>\n",
       "    </tr>\n",
       "    <tr>\n",
       "      <th>8</th>\n",
       "      <td>Last Best Brewing &amp; Distilling</td>\n",
       "      <td>607 11 Ave SW</td>\n",
       "      <td>8.6</td>\n",
       "    </tr>\n",
       "    <tr>\n",
       "      <th>1</th>\n",
       "      <td>Anejo</td>\n",
       "      <td>723 17 Ave SW</td>\n",
       "      <td>8.5</td>\n",
       "    </tr>\n",
       "    <tr>\n",
       "      <th>3</th>\n",
       "      <td>Ship &amp; Anchor Pub</td>\n",
       "      <td>534 17 Ave SW</td>\n",
       "      <td>8.3</td>\n",
       "    </tr>\n",
       "    <tr>\n",
       "      <th>2</th>\n",
       "      <td>Trolley 5 Restaurant and Brewery</td>\n",
       "      <td>728 17 Ave SW</td>\n",
       "      <td>8.2</td>\n",
       "    </tr>\n",
       "    <tr>\n",
       "      <th>4</th>\n",
       "      <td>Analog Coffee</td>\n",
       "      <td>740 17 Ave SW</td>\n",
       "      <td>8.0</td>\n",
       "    </tr>\n",
       "    <tr>\n",
       "      <th>5</th>\n",
       "      <td>Thai Tai</td>\n",
       "      <td>615 17th Ave SW</td>\n",
       "      <td>7.9</td>\n",
       "    </tr>\n",
       "    <tr>\n",
       "      <th>6</th>\n",
       "      <td>Philosafy Coffee</td>\n",
       "      <td>632 17 Ave SW</td>\n",
       "      <td>7.8</td>\n",
       "    </tr>\n",
       "  </tbody>\n",
       "</table>\n",
       "</div>"
      ],
      "text/plain": [
       "                               Name          Location  Rating\n",
       "7             Yann Haute Patisserie  301A39 23 Ave SW     9.0\n",
       "9                        Holy Grill     827 10 Ave SW     8.9\n",
       "0                    Blanco Cantina     723 17 Ave SW     8.8\n",
       "8    Last Best Brewing & Distilling     607 11 Ave SW     8.6\n",
       "1                             Anejo     723 17 Ave SW     8.5\n",
       "3                 Ship & Anchor Pub     534 17 Ave SW     8.3\n",
       "2  Trolley 5 Restaurant and Brewery     728 17 Ave SW     8.2\n",
       "4                     Analog Coffee     740 17 Ave SW     8.0\n",
       "5                          Thai Tai   615 17th Ave SW     7.9\n",
       "6                  Philosafy Coffee     632 17 Ave SW     7.8"
      ]
     },
     "execution_count": 272,
     "metadata": {},
     "output_type": "execute_result"
    }
   ],
   "source": [
    "df = pd.DataFrame(di)\n",
    "df.sort_values('Rating', ascending = False)"
   ]
  },
  {
   "cell_type": "markdown",
   "metadata": {},
   "source": [
    "# Yelp"
   ]
  },
  {
   "cell_type": "markdown",
   "metadata": {},
   "source": [
    "Send a request with the same location paramaters (location, radius, etc)"
   ]
  },
  {
   "cell_type": "code",
   "execution_count": 32,
   "metadata": {},
   "outputs": [],
   "source": [
    "ykey = os.environ[\"YELP_API\"]\n",
    "url = 'https://api.yelp.com/v3/businesses/search?latitude=51.03734231611936&longitude=-114.07726999320349&radius=1000&categories=bars,restaurants,desserts&businesses[x].rating'\n",
    "headers = {'Authorization': 'bearer '+ykey}\n",
    "response = re.get(url, headers=headers)\n",
    "z= response.json()"
   ]
  },
  {
   "cell_type": "code",
   "execution_count": null,
   "metadata": {},
   "outputs": [],
   "source": []
  },
  {
   "cell_type": "markdown",
   "metadata": {},
   "source": [
    "Parse through your result and get POI details"
   ]
  },
  {
   "cell_type": "code",
   "execution_count": 85,
   "metadata": {},
   "outputs": [],
   "source": [
    "lstny = []\n",
    "for ele in z['businesses']:\n",
    "    lstny.append(ele['name'])"
   ]
  },
  {
   "cell_type": "code",
   "execution_count": 84,
   "metadata": {},
   "outputs": [],
   "source": [
    "lstry = []\n",
    "for ele in z['businesses']:\n",
    "    lstry.append(ele['rating'])"
   ]
  },
  {
   "cell_type": "code",
   "execution_count": 89,
   "metadata": {},
   "outputs": [],
   "source": [
    "lstrry = []\n",
    "for ele in lstry:\n",
    "    lstrry.append(ele*2)"
   ]
  },
  {
   "cell_type": "code",
   "execution_count": 65,
   "metadata": {},
   "outputs": [],
   "source": [
    "x = []\n",
    "for ele in lstx:\n",
    "    x.append(ele['address1'])"
   ]
  },
  {
   "cell_type": "code",
   "execution_count": 195,
   "metadata": {},
   "outputs": [],
   "source": [
    "dic = {'Name':lstny, 'Location':x, 'Rating':lstrry}"
   ]
  },
  {
   "cell_type": "markdown",
   "metadata": {},
   "source": [
    "Put your parsed results into a DataFrame"
   ]
  },
  {
   "cell_type": "code",
   "execution_count": 196,
   "metadata": {},
   "outputs": [
    {
     "data": {
      "text/html": [
       "<div>\n",
       "<style scoped>\n",
       "    .dataframe tbody tr th:only-of-type {\n",
       "        vertical-align: middle;\n",
       "    }\n",
       "\n",
       "    .dataframe tbody tr th {\n",
       "        vertical-align: top;\n",
       "    }\n",
       "\n",
       "    .dataframe thead th {\n",
       "        text-align: right;\n",
       "    }\n",
       "</style>\n",
       "<table border=\"1\" class=\"dataframe\">\n",
       "  <thead>\n",
       "    <tr style=\"text-align: right;\">\n",
       "      <th></th>\n",
       "      <th>Name</th>\n",
       "      <th>Location</th>\n",
       "      <th>Rating</th>\n",
       "    </tr>\n",
       "  </thead>\n",
       "  <tbody>\n",
       "    <tr>\n",
       "      <th>14</th>\n",
       "      <td>European Bakery &amp; Deli</td>\n",
       "      <td>515 17 Avenue SW</td>\n",
       "      <td>10.0</td>\n",
       "    </tr>\n",
       "    <tr>\n",
       "      <th>3</th>\n",
       "      <td>Alumni Sandwich &amp; Liquor Bar</td>\n",
       "      <td>725 17 Ave SW</td>\n",
       "      <td>9.0</td>\n",
       "    </tr>\n",
       "    <tr>\n",
       "      <th>17</th>\n",
       "      <td>Galaxie Diner</td>\n",
       "      <td>1413 11 Street SW</td>\n",
       "      <td>9.0</td>\n",
       "    </tr>\n",
       "    <tr>\n",
       "      <th>16</th>\n",
       "      <td>Tamarind Vietnamese Grill &amp; Noodle House</td>\n",
       "      <td>908 12 Ave SW</td>\n",
       "      <td>9.0</td>\n",
       "    </tr>\n",
       "    <tr>\n",
       "      <th>15</th>\n",
       "      <td>Lulu Bar</td>\n",
       "      <td>510 17 Avenue SW</td>\n",
       "      <td>9.0</td>\n",
       "    </tr>\n",
       "    <tr>\n",
       "      <th>8</th>\n",
       "      <td>The Holy Grill</td>\n",
       "      <td>827 10th Avenue SW</td>\n",
       "      <td>9.0</td>\n",
       "    </tr>\n",
       "    <tr>\n",
       "      <th>13</th>\n",
       "      <td>Yann Haute Patisserie</td>\n",
       "      <td>329 23rd Avenue SW</td>\n",
       "      <td>9.0</td>\n",
       "    </tr>\n",
       "    <tr>\n",
       "      <th>1</th>\n",
       "      <td>Ten Foot Henry</td>\n",
       "      <td>1209 1st Street SW</td>\n",
       "      <td>9.0</td>\n",
       "    </tr>\n",
       "    <tr>\n",
       "      <th>11</th>\n",
       "      <td>Betty Lou's Library</td>\n",
       "      <td>908 17 Avenue SW</td>\n",
       "      <td>9.0</td>\n",
       "    </tr>\n",
       "    <tr>\n",
       "      <th>0</th>\n",
       "      <td>UNA Pizza + Wine</td>\n",
       "      <td>618 17th Avenue SW</td>\n",
       "      <td>8.0</td>\n",
       "    </tr>\n",
       "    <tr>\n",
       "      <th>12</th>\n",
       "      <td>Briggs Kitchen + Bar</td>\n",
       "      <td>100 - 317 10th Avenue SW</td>\n",
       "      <td>8.0</td>\n",
       "    </tr>\n",
       "    <tr>\n",
       "      <th>18</th>\n",
       "      <td>Last Best Brewing &amp; Distilling</td>\n",
       "      <td>607 11 Avenue SW</td>\n",
       "      <td>8.0</td>\n",
       "    </tr>\n",
       "    <tr>\n",
       "      <th>10</th>\n",
       "      <td>Trolley 5</td>\n",
       "      <td>728 17th Avenue SW</td>\n",
       "      <td>8.0</td>\n",
       "    </tr>\n",
       "    <tr>\n",
       "      <th>9</th>\n",
       "      <td>Ship &amp; Anchor Pub</td>\n",
       "      <td>534 17 Avenue SW</td>\n",
       "      <td>8.0</td>\n",
       "    </tr>\n",
       "    <tr>\n",
       "      <th>7</th>\n",
       "      <td>Model Milk</td>\n",
       "      <td>308 17th Avenue</td>\n",
       "      <td>8.0</td>\n",
       "    </tr>\n",
       "    <tr>\n",
       "      <th>6</th>\n",
       "      <td>Shokunin</td>\n",
       "      <td>2016 4th Street SW</td>\n",
       "      <td>8.0</td>\n",
       "    </tr>\n",
       "    <tr>\n",
       "      <th>5</th>\n",
       "      <td>Native Tongues Taqueria</td>\n",
       "      <td>235 12 Avenue SW</td>\n",
       "      <td>8.0</td>\n",
       "    </tr>\n",
       "    <tr>\n",
       "      <th>4</th>\n",
       "      <td>Analog Coffee</td>\n",
       "      <td>740 17th Avenue SW</td>\n",
       "      <td>8.0</td>\n",
       "    </tr>\n",
       "    <tr>\n",
       "      <th>2</th>\n",
       "      <td>The Coup</td>\n",
       "      <td>924 17th Avenue SW</td>\n",
       "      <td>8.0</td>\n",
       "    </tr>\n",
       "    <tr>\n",
       "      <th>19</th>\n",
       "      <td>Charcut Roast House</td>\n",
       "      <td>101-899 Centre Street S</td>\n",
       "      <td>8.0</td>\n",
       "    </tr>\n",
       "  </tbody>\n",
       "</table>\n",
       "</div>"
      ],
      "text/plain": [
       "                                        Name                  Location  Rating\n",
       "14                    European Bakery & Deli          515 17 Avenue SW    10.0\n",
       "3               Alumni Sandwich & Liquor Bar             725 17 Ave SW     9.0\n",
       "17                             Galaxie Diner         1413 11 Street SW     9.0\n",
       "16  Tamarind Vietnamese Grill & Noodle House             908 12 Ave SW     9.0\n",
       "15                                  Lulu Bar          510 17 Avenue SW     9.0\n",
       "8                             The Holy Grill        827 10th Avenue SW     9.0\n",
       "13                     Yann Haute Patisserie        329 23rd Avenue SW     9.0\n",
       "1                             Ten Foot Henry        1209 1st Street SW     9.0\n",
       "11                       Betty Lou's Library          908 17 Avenue SW     9.0\n",
       "0                           UNA Pizza + Wine        618 17th Avenue SW     8.0\n",
       "12                      Briggs Kitchen + Bar  100 - 317 10th Avenue SW     8.0\n",
       "18            Last Best Brewing & Distilling          607 11 Avenue SW     8.0\n",
       "10                                 Trolley 5        728 17th Avenue SW     8.0\n",
       "9                          Ship & Anchor Pub          534 17 Avenue SW     8.0\n",
       "7                                 Model Milk           308 17th Avenue     8.0\n",
       "6                                   Shokunin        2016 4th Street SW     8.0\n",
       "5                    Native Tongues Taqueria          235 12 Avenue SW     8.0\n",
       "4                              Analog Coffee        740 17th Avenue SW     8.0\n",
       "2                                   The Coup        924 17th Avenue SW     8.0\n",
       "19                       Charcut Roast House   101-899 Centre Street S     8.0"
      ]
     },
     "execution_count": 196,
     "metadata": {},
     "output_type": "execute_result"
    }
   ],
   "source": [
    "df1 = pd.DataFrame(dic)\n",
    "df1.sort_values('Rating', ascending = False)"
   ]
  },
  {
   "cell_type": "markdown",
   "metadata": {},
   "source": [
    "# Google (stretch)"
   ]
  },
  {
   "cell_type": "markdown",
   "metadata": {},
   "source": [
    "Use the same process as the first two APIs"
   ]
  },
  {
   "cell_type": "markdown",
   "metadata": {},
   "source": [
    "# Database"
   ]
  },
  {
   "cell_type": "markdown",
   "metadata": {},
   "source": [
    "Put all your results in an SQLite3 database (remember, SQLite stores its databases as files in your local machine - make sure to create your database in your project's data/ directory!)"
   ]
  },
  {
   "cell_type": "code",
   "execution_count": 94,
   "metadata": {},
   "outputs": [],
   "source": [
    "def create_connection(path):\n",
    "    connection = None\n",
    "    try:\n",
    "        connection = sqlite3.connect(path)\n",
    "        print(\"Connection to SQLite DB successful\")\n",
    "    except Error as e:\n",
    "        print(f\"The error '{e}' occurred\")\n",
    "\n",
    "    return connection"
   ]
  },
  {
   "cell_type": "code",
   "execution_count": 95,
   "metadata": {},
   "outputs": [
    {
     "name": "stdout",
     "output_type": "stream",
     "text": [
      "Connection to SQLite DB successful\n"
     ]
    }
   ],
   "source": [
    "connection = create_connection(\"sm_app.sqlite\")"
   ]
  },
  {
   "cell_type": "code",
   "execution_count": 96,
   "metadata": {},
   "outputs": [],
   "source": [
    "def execute_query(connection, query):\n",
    "    cursor = connection.cursor()\n",
    "    try:\n",
    "        cursor.execute(query)\n",
    "        connection.commit()\n",
    "        print(\"Query executed successfully\")\n",
    "    except Error as e:\n",
    "        print(f\"The error '{e}' occurred\")"
   ]
  },
  {
   "cell_type": "code",
   "execution_count": 104,
   "metadata": {},
   "outputs": [],
   "source": [
    "#NOT USING SINCE IM GOING RIGHT FROM DATAFRAME TO DATABASE\n",
    "create_restaurantsfq_table = \"\"\"\n",
    "CREATE TABLE IF NOT EXISTS restaurantsfq (\n",
    "  id INTEGER PRIMARY KEY AUTOINCREMENT,\n",
    "  name TEXT NOT NULL,\n",
    "  location TEXT NOT NULL,\n",
    "  rating INTEGER\n",
    ");\n",
    "\"\"\""
   ]
  },
  {
   "cell_type": "code",
   "execution_count": 105,
   "metadata": {},
   "outputs": [
    {
     "name": "stdout",
     "output_type": "stream",
     "text": [
      "Query executed successfully\n"
     ]
    }
   ],
   "source": [
    "execute_query(connection, create_restaurantsfq_table)  "
   ]
  },
  {
   "cell_type": "code",
   "execution_count": 102,
   "metadata": {},
   "outputs": [],
   "source": [
    "create_restaurantsy_table = \"\"\"\n",
    "CREATE TABLE IF NOT EXISTS restaurantsy (\n",
    "  id INTEGER PRIMARY KEY AUTOINCREMENT,\n",
    "  name TEXT NOT NULL,\n",
    "  location TEXT NOT NULL,\n",
    "  rating INTEGER\n",
    ");\n",
    "\"\"\""
   ]
  },
  {
   "cell_type": "code",
   "execution_count": 106,
   "metadata": {},
   "outputs": [
    {
     "name": "stdout",
     "output_type": "stream",
     "text": [
      "Query executed successfully\n"
     ]
    }
   ],
   "source": [
    "execute_query(connection, create_restaurantsy_table)  "
   ]
  },
  {
   "cell_type": "code",
   "execution_count": 147,
   "metadata": {},
   "outputs": [
    {
     "data": {
      "text/plain": [
       "10"
      ]
     },
     "execution_count": 147,
     "metadata": {},
     "output_type": "execute_result"
    }
   ],
   "source": [
    "df.to_sql(name= 'restaurantsfsq', con=connection, if_exists='replace', index = True)"
   ]
  },
  {
   "cell_type": "code",
   "execution_count": 148,
   "metadata": {},
   "outputs": [],
   "source": [
    "connection.commit()"
   ]
  },
  {
   "cell_type": "code",
   "execution_count": 149,
   "metadata": {},
   "outputs": [],
   "source": [
    "def execute_read_query(connection, query):\n",
    "    cursor = connection.cursor()\n",
    "    result = None\n",
    "    try:\n",
    "        cursor.execute(query)\n",
    "        result = cursor.fetchall()\n",
    "        return result\n",
    "    except Error as e:\n",
    "        print(f\"The error '{e}' occurred\")"
   ]
  },
  {
   "cell_type": "code",
   "execution_count": 150,
   "metadata": {},
   "outputs": [
    {
     "name": "stdout",
     "output_type": "stream",
     "text": [
      "(0, 'Blanco Cantina', '723 17 Ave SW', 8.8)\n",
      "(1, 'Anejo', '723 17 Ave SW', 8.5)\n",
      "(2, 'Trolley 5 Restaurant and Brewery', '728 17 Ave SW', 8.2)\n",
      "(3, 'Ship & Anchor Pub', '534 17 Ave SW', 8.3)\n",
      "(4, 'Analog Coffee', '740 17 Ave SW', 8.0)\n",
      "(5, 'Thai Tai', '615 17th Ave SW', 7.9)\n",
      "(6, 'Philosafy Coffee', '632 17 Ave SW', 7.8)\n",
      "(7, 'Yann Haute Patisserie', '301A39 23 Ave SW', 9.0)\n",
      "(8, 'Last Best Brewing & Distilling', '607 11 Ave SW', 8.6)\n",
      "(9, 'Holy Grill', '827 10 Ave SW', 8.9)\n"
     ]
    }
   ],
   "source": [
    "select_restaurants = \"SELECT * from restaurantsfsq\"\n",
    "restaurants = execute_read_query(connection, select_restaurants)\n",
    "\n",
    "for ele in restaurants:\n",
    "    print(ele)"
   ]
  },
  {
   "cell_type": "code",
   "execution_count": 151,
   "metadata": {},
   "outputs": [
    {
     "data": {
      "text/plain": [
       "20"
      ]
     },
     "execution_count": 151,
     "metadata": {},
     "output_type": "execute_result"
    }
   ],
   "source": [
    "df1.to_sql(name= 'restaurantsy', con=connection, if_exists='replace', index = True)"
   ]
  },
  {
   "cell_type": "code",
   "execution_count": 152,
   "metadata": {},
   "outputs": [],
   "source": [
    "connection.commit()"
   ]
  },
  {
   "cell_type": "code",
   "execution_count": 153,
   "metadata": {},
   "outputs": [],
   "source": [
    "def execute_read_query(connection, query):\n",
    "    cursor = connection.cursor()\n",
    "    result = None\n",
    "    try:\n",
    "        cursor.execute(query)\n",
    "        result = cursor.fetchall()\n",
    "        return result\n",
    "    except Error as e:\n",
    "        print(f\"The error '{e}' occurred\")"
   ]
  },
  {
   "cell_type": "code",
   "execution_count": 157,
   "metadata": {},
   "outputs": [
    {
     "name": "stdout",
     "output_type": "stream",
     "text": [
      "(0, 'UNA Pizza + Wine', '618 17th Avenue SW', 8.0)\n",
      "(1, 'Ten Foot Henry', '1209 1st Street SW', 9.0)\n",
      "(2, 'The Coup', '924 17th Avenue SW', 8.0)\n",
      "(3, 'Alumni Sandwich & Liquor Bar', '725 17 Ave SW', 9.0)\n",
      "(4, 'Analog Coffee', '740 17th Avenue SW', 8.0)\n",
      "(5, 'Native Tongues Taqueria', '235 12 Avenue SW', 8.0)\n",
      "(6, 'Shokunin', '2016 4th Street SW', 8.0)\n",
      "(7, 'Model Milk', '308 17th Avenue', 8.0)\n",
      "(8, 'The Holy Grill', '827 10th Avenue SW', 9.0)\n",
      "(9, 'Ship & Anchor Pub', '534 17 Avenue SW', 8.0)\n",
      "(10, 'Trolley 5', '728 17th Avenue SW', 8.0)\n",
      "(11, \"Betty Lou's Library\", '908 17 Avenue SW', 9.0)\n",
      "(12, 'Briggs Kitchen + Bar', '100 - 317 10th Avenue SW', 8.0)\n",
      "(13, 'Yann Haute Patisserie', '329 23rd Avenue SW', 9.0)\n",
      "(14, 'European Bakery & Deli', '515 17 Avenue SW', 10.0)\n",
      "(15, 'Lulu Bar', '510 17 Avenue SW', 9.0)\n",
      "(16, 'Tamarind Vietnamese Grill & Noodle House', '908 12 Ave SW', 9.0)\n",
      "(17, 'Galaxie Diner', '1413 11 Street SW', 9.0)\n",
      "(18, 'Last Best Brewing & Distilling', '607 11 Avenue SW', 8.0)\n",
      "(19, 'Charcut Roast House', '101-899 Centre Street S', 8.0)\n"
     ]
    }
   ],
   "source": [
    "select_restaurants = \"SELECT * from restaurantsy\"\n",
    "restaurants = execute_read_query(connection, select_restaurants)\n",
    "\n",
    "for ele in restaurants:\n",
    "    print(ele)"
   ]
  },
  {
   "cell_type": "markdown",
   "metadata": {},
   "source": [
    "Get the top 10 restaurants according to their rating"
   ]
  },
  {
   "cell_type": "code",
   "execution_count": 172,
   "metadata": {},
   "outputs": [
    {
     "name": "stdout",
     "output_type": "stream",
     "text": [
      "(14, 'European Bakery & Deli', '515 17 Avenue SW', 10.0)\n",
      "(1, 'Ten Foot Henry', '1209 1st Street SW', 9.0)\n",
      "(3, 'Alumni Sandwich & Liquor Bar', '725 17 Ave SW', 9.0)\n",
      "(7, 'Yann Haute Patisserie', '301A39 23 Ave SW', 9.0)\n",
      "(8, 'The Holy Grill', '827 10th Avenue SW', 9.0)\n",
      "(11, \"Betty Lou's Library\", '908 17 Avenue SW', 9.0)\n",
      "(13, 'Yann Haute Patisserie', '329 23rd Avenue SW', 9.0)\n",
      "(15, 'Lulu Bar', '510 17 Avenue SW', 9.0)\n",
      "(16, 'Tamarind Vietnamese Grill & Noodle House', '908 12 Ave SW', 9.0)\n",
      "(17, 'Galaxie Diner', '1413 11 Street SW', 9.0)\n"
     ]
    }
   ],
   "source": [
    "#UNION used because join puts the values side by side, while UNION stacks them on one another, and then using rating to order to get the top 10 by rating\n",
    "joined_restaurants = \"SELECT * FROM restaurantsy UNION SELECT * FROM restaurantsfsq ORDER BY Rating DESC LIMIT 10\"\n",
    "all_restaurants = execute_read_query(connection, joined_restaurants)\n",
    "for ele in all_restaurants:\n",
    "    print(ele)"
   ]
  },
  {
   "cell_type": "markdown",
   "metadata": {},
   "source": [
    "# Travelling Salesman Problem (stretch)"
   ]
  },
  {
   "cell_type": "markdown",
   "metadata": {},
   "source": [
    "If you have time, follow the steps in the [ortools tutorial](https://developers.google.com/optimization/routing/tsp) using Google's [Directions API](https://developers.google.com/maps/documentation/directions/start)."
   ]
  },
  {
   "cell_type": "code",
   "execution_count": null,
   "metadata": {},
   "outputs": [],
   "source": []
  }
 ],
 "metadata": {
  "kernelspec": {
   "display_name": "Python 3 (ipykernel)",
   "language": "python",
   "name": "python3"
  },
  "language_info": {
   "codemirror_mode": {
    "name": "ipython",
    "version": 3
   },
   "file_extension": ".py",
   "mimetype": "text/x-python",
   "name": "python",
   "nbconvert_exporter": "python",
   "pygments_lexer": "ipython3",
   "version": "3.9.12"
  }
 },
 "nbformat": 4,
 "nbformat_minor": 4
}
